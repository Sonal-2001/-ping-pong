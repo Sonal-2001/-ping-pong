{
  "nbformat": 4,
  "nbformat_minor": 0,
  "metadata": {
    "colab": {
      "provenance": [],
      "authorship_tag": "ABX9TyNGXYe1Gpu+FOxsGQ/kUKMd",
      "include_colab_link": true
    },
    "kernelspec": {
      "name": "python3",
      "display_name": "Python 3"
    },
    "language_info": {
      "name": "python"
    }
  },
  "cells": [
    {
      "cell_type": "markdown",
      "metadata": {
        "id": "view-in-github",
        "colab_type": "text"
      },
      "source": [
        "<a href=\"https://colab.research.google.com/github/Sonal-2001/-ping-pong/blob/main/ATM_py.ipynb\" target=\"_parent\"><img src=\"https://colab.research.google.com/assets/colab-badge.svg\" alt=\"Open In Colab\"/></a>"
      ]
    },
    {
      "cell_type": "code",
      "execution_count": null,
      "metadata": {
        "colab": {
          "base_uri": "https://localhost:8080/"
        },
        "id": "2trDYoojqfmR",
        "outputId": "a00a974a-7394-4b1f-ed27-43c0ebd1f13c"
      },
      "outputs": [
        {
          "output_type": "stream",
          "name": "stdout",
          "text": [
            "  ATM   \n",
            "\n",
            "  1)    Balance\n",
            "  2)    Withdraw\n",
            "  3)    Deposit\n",
            "  4)    Quit\n",
            "  \n",
            "Enter Option:  1\n",
            "Balance Rs 10000\n",
            "  ATM   \n",
            "\n",
            "  1)    Balance\n",
            "  2)    Withdraw\n",
            "  3)    Deposit\n",
            "  4)    Quit\n",
            "  \n",
            "Enter Option:  2\n",
            "Balance Rs  10000\n",
            "Enter Withdraw amount Rs 2000\n",
            "Foreward Balance Rs  8000.0\n",
            "  ATM   \n",
            "\n",
            "  1)    Balance\n",
            "  2)    Withdraw\n",
            "  3)    Deposit\n",
            "  4)    Quit\n",
            "  \n",
            "Enter Option:  3\n",
            "Balance Rs  10000\n",
            "Enter deposit amount Rs 30000\n",
            "Forewardbalance Rs  40000.0\n",
            "  ATM   \n",
            "\n",
            "  1)    Balance\n",
            "  2)    Withdraw\n",
            "  3)    Deposit\n",
            "  4)    Quit\n",
            "  \n",
            "Enter Option:  4\n",
            "  ATM   \n",
            "\n",
            "  1)    Balance\n",
            "  2)    Withdraw\n",
            "  3)    Deposit\n",
            "  4)    Quit\n",
            "  \n",
            "Enter Option:  1\n",
            "Balance Rs 10000\n",
            "  ATM   \n",
            "\n",
            "  1)    Balance\n",
            "  2)    Withdraw\n",
            "  3)    Deposit\n",
            "  4)    Quit\n",
            "  \n"
          ]
        }
      ],
      "source": [
        "while True:\n",
        "  balance=10000\n",
        "  print(\"  ATM  \")\n",
        "  print(\"\"\"\n",
        "  1)    Balance\n",
        "  2)    Withdraw\n",
        "  3)    Deposit\n",
        "  4)    Quit\n",
        "  \"\"\")\n",
        "  try:\n",
        "    Option= int(input(\"Enter Option:  \"))\n",
        "  except Exception as e:\n",
        "    print(\"Error:\",e)\n",
        "    print(\"Enter 1,2,3 or 4 only\")\n",
        "    continue\n",
        "  if Option==1:\n",
        "    print(\"Balance Rs\",balance)\n",
        "  if Option==2:\n",
        "    print(\"Balance Rs \",balance)\n",
        "    Withdraw=float(input(\"Enter Withdraw amount Rs \"))\n",
        "    if Withdraw > 0:\n",
        "      forewardbalance=(balance - Withdraw)\n",
        "      print(\"Foreward Balance Rs \",forewardbalance)\n",
        "    elif Withdraw>balance:\n",
        "      print(\"No funs in account\")\n",
        "    else:\n",
        "      print(\"None withdraw made\")\n",
        "  if Option==3:\n",
        "    print(\"Balance Rs \",balance)\n",
        "    Deposit=float(input(\"Enter deposit amount Rs \"))\n",
        "    if Deposit>0:\n",
        "      forewardbalance=(balance+Deposit)\n",
        "      print(\"Forewardbalance Rs \",forewardbalance)\n",
        "    else:\n",
        "      print(\"None deposit made\")\n",
        "  if Option==4:\n",
        "    exit()"
      ]
    }
  ]
}